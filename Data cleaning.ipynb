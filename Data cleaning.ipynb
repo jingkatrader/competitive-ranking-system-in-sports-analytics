{
 "cells": [
  {
   "cell_type": "code",
   "execution_count": 2,
   "metadata": {},
   "outputs": [],
   "source": [
    "import pandas as pd\n",
    "import xlwings as xw\n",
    "import xlsxwriter\n",
    "import os\n",
    "import pickle"
   ]
  },
  {
   "cell_type": "markdown",
   "metadata": {},
   "source": [
    "### Organize competition data based on year"
   ]
  },
  {
   "cell_type": "code",
   "execution_count": 8,
   "metadata": {},
   "outputs": [],
   "source": [
    "'''\n",
    "Create empty excel data sheet to save competition data with chronological order\n",
    "'''\n",
    "\n",
    "\n",
    "folders = os.listdir(\"chronological\")\n",
    "\n",
    "\n",
    "for folder in folders:\n",
    "    # folder is either M or W\n",
    "    if folder == '.DS_Store' or 'xlsx' in folder:\n",
    "        continue\n",
    "\n",
    "    files = os.listdir(\"chronological/\"+folder)\n",
    "    files.sort(reverse = True)\n",
    "    \n",
    "    for f_name in files:\n",
    "        if f_name == '.DS_Store':\n",
    "            continue\n",
    "        year = f_name.split('_')[-1][:4]\n",
    "        gender = f_name.split('_')[0]\n",
    "        workbook_name = 'chronological/'+(\"{}_{}.xlsx\".format(gender, year))\n",
    "        folders_updates= os.listdir(\"chronological\")\n",
    "        if (\"{}_{}.xlsx\".format(gender, year)) not in folders_updates:\n",
    "            # Create an empty workbook\n",
    "            workbook = xlsxwriter.Workbook(workbook_name)\n",
    "\n",
    "            workbook.close()\n"
   ]
  },
  {
   "cell_type": "code",
   "execution_count": 13,
   "metadata": {},
   "outputs": [],
   "source": [
    "folders = os.listdir(\"chronological\")\n",
    "\n",
    "'''\n",
    "Process the competition data into chronological ordered excel sheets.\n",
    "-> create Excel sheet for every year (target file)\n",
    "-> read the competition data, order them by competition year\n",
    "-> for each competition, order data by athlete rank, then paste data into the target file of the specific sheet\n",
    "\n",
    "'''\n",
    "\n",
    "for to_xlsx in folders:\n",
    "    if 'xlsx' in to_xlsx:\n",
    "        # organize file together\n",
    "        workbook_name = 'chronological/'+to_xlsx\n",
    "        with pd.ExcelWriter(workbook_name) as writer:  \n",
    "            file_organizer = {}\n",
    "            gender = to_xlsx.split('_')[0]\n",
    "            year = to_xlsx.split('_')[1][0:4]\n",
    "            for f_name in os.listdir(\"chronological/\"+gender):\n",
    "                if f_name == '.DS_Store' or f_name.split('_')[-1][:4] != year:\n",
    "                    continue\n",
    "                date = int(f_name.split('_')[-1][4:8])\n",
    "                sheet_name = f_name.split('.')[0]\n",
    "                if date in file_organizer:\n",
    "                    file_organizer[date].append(sheet_name)\n",
    "                else:\n",
    "                    file_organizer[date] = [sheet_name]\n",
    "            for d in sorted(file_organizer):\n",
    "                for sheet_name in file_organizer[d]:\n",
    "                    pd.read_csv(\"chronological/\" + gender + \"/\" + sheet_name + '.csv', sep='\\t',encoding='UTF-16', header = 0)\\\n",
    "                    .sort_values(by=['Rank'])\\\n",
    "                    .to_excel(writer,sheet_name = sheet_name)"
   ]
  },
  {
   "cell_type": "code",
   "execution_count": 30,
   "metadata": {},
   "outputs": [],
   "source": [
    "folders = os.listdir(\"chronological\")\n",
    "\n",
    "'''\n",
    "\n",
    "    GOAL: Organize data into Excel file, easier to visualize the data\n",
    "'''\n",
    "M_count = 0\n",
    "W_count = 0\n",
    "for to_xlsx in folders:\n",
    "    if 'xlsx' in to_xlsx:\n",
    "        gender = to_xlsx.split('_')[0]\n",
    "        xls = pd.ExcelFile('chronological' +'/' + to_xlsx)\n",
    "        sheet_names = xls.sheet_names\n",
    "        if gender == 'M':\n",
    "            M_count += len(sheet_names)\n",
    "        else:\n",
    "            W_count += len(sheet_names)"
   ]
  },
  {
   "cell_type": "code",
   "execution_count": 31,
   "metadata": {},
   "outputs": [
    {
     "data": {
      "text/plain": [
       "(381, 379)"
      ]
     },
     "execution_count": 31,
     "metadata": {},
     "output_type": "execute_result"
    }
   ],
   "source": [
    "M_count, W_count"
   ]
  },
  {
   "cell_type": "code",
   "execution_count": 34,
   "metadata": {},
   "outputs": [],
   "source": [
    "folders = os.listdir(\"chronological\")\n",
    "folders.sort(reverse = False)"
   ]
  },
  {
   "cell_type": "code",
   "execution_count": 35,
   "metadata": {},
   "outputs": [
    {
     "data": {
      "text/plain": [
       "['.DS_Store',\n",
       " 'M',\n",
       " 'M_1995.xlsx',\n",
       " 'M_1996.xlsx',\n",
       " 'M_1997.xlsx',\n",
       " 'M_1998.xlsx',\n",
       " 'M_1999.xlsx',\n",
       " 'M_2000.xlsx',\n",
       " 'M_2001.xlsx',\n",
       " 'M_2002.xlsx',\n",
       " 'M_2003.xlsx',\n",
       " 'M_2004.xlsx',\n",
       " 'M_2005.xlsx',\n",
       " 'M_2006.xlsx',\n",
       " 'M_2007.xlsx',\n",
       " 'M_2008.xlsx',\n",
       " 'M_2009.xlsx',\n",
       " 'M_2010.xlsx',\n",
       " 'M_2011.xlsx',\n",
       " 'M_2012.xlsx',\n",
       " 'M_2013.xlsx',\n",
       " 'M_2014.xlsx',\n",
       " 'M_2015.xlsx',\n",
       " 'M_2016.xlsx',\n",
       " 'M_2017.xlsx',\n",
       " 'M_2018.xlsx',\n",
       " 'M_2019.xlsx',\n",
       " 'W',\n",
       " 'W_1995.xlsx',\n",
       " 'W_1996.xlsx',\n",
       " 'W_1997.xlsx',\n",
       " 'W_1998.xlsx',\n",
       " 'W_1999.xlsx',\n",
       " 'W_2000.xlsx',\n",
       " 'W_2001.xlsx',\n",
       " 'W_2002.xlsx',\n",
       " 'W_2003.xlsx',\n",
       " 'W_2004.xlsx',\n",
       " 'W_2005.xlsx',\n",
       " 'W_2006.xlsx',\n",
       " 'W_2007.xlsx',\n",
       " 'W_2008.xlsx',\n",
       " 'W_2009.xlsx',\n",
       " 'W_2010.xlsx',\n",
       " 'W_2011.xlsx',\n",
       " 'W_2012.xlsx',\n",
       " 'W_2013.xlsx',\n",
       " 'W_2014.xlsx',\n",
       " 'W_2015.xlsx',\n",
       " 'W_2016.xlsx',\n",
       " 'W_2017.xlsx',\n",
       " 'W_2018.xlsx',\n",
       " 'W_2019.xlsx',\n",
       " 'W_2020.xlsx']"
      ]
     },
     "execution_count": 35,
     "metadata": {},
     "output_type": "execute_result"
    }
   ],
   "source": [
    "folders"
   ]
  },
  {
   "cell_type": "markdown",
   "metadata": {},
   "source": [
    "### Organize the offcial athletes ranking"
   ]
  },
  {
   "cell_type": "code",
   "execution_count": 3,
   "metadata": {
    "scrolled": true
   },
   "outputs": [],
   "source": [
    "'''\n",
    "Process Man ranking list data into one Excel sheet\n",
    "'''\n",
    "ranking_list_folder = 'HP_M'\n",
    "\n",
    "workbook_name = 'ranking_list/'+ranking_list_folder+'.xlsx'\n",
    "workbook = xlsxwriter.Workbook(workbook_name)\n",
    "\n",
    "workbook.close()\n",
    "\n",
    "files = os.listdir(\"ranking_list/\"+ranking_list_folder)\n",
    "files.sort(reverse = True)\n",
    "\n",
    "with pd.ExcelWriter(workbook_name) as writer:  \n",
    "    for f_name in files:\n",
    "        if f_name == '.DS_Store':\n",
    "            continue\n",
    "        sheet_name = f_name.split('.')[0]\n",
    "        sheet_name = sheet_name.replace('-','')\n",
    "        pd.read_csv(\"ranking_list/\" + ranking_list_folder+ \"/\" +f_name,sep=',', encoding= 'unicode_escape', header = 0)\\\n",
    "        .to_excel(writer,sheet_name = sheet_name)"
   ]
  },
  {
   "cell_type": "code",
   "execution_count": 4,
   "metadata": {},
   "outputs": [],
   "source": [
    "'''\n",
    "Process Woman ranking list data into one Excel sheet\n",
    "'''\n",
    "ranking_list_folder = 'HP_W'\n",
    "\n",
    "workbook_name = 'ranking_list/'+ranking_list_folder+'.xlsx'\n",
    "workbook = xlsxwriter.Workbook(workbook_name)\n",
    "\n",
    "workbook.close()\n",
    "\n",
    "files = os.listdir(\"ranking_list/\"+ranking_list_folder)\n",
    "files.sort(reverse = True)\n",
    "\n",
    "with pd.ExcelWriter(workbook_name) as writer:  \n",
    "    for f_name in files:\n",
    "        if f_name == '.DS_Store':\n",
    "            continue\n",
    "        sheet_name = f_name.split('.')[0]\n",
    "        sheet_name = sheet_name.replace('-','')\n",
    "        pd.read_csv(\"ranking_list/\" + ranking_list_folder+ \"/\" +f_name,sep=',', encoding= 'unicode_escape', header = 0)\\\n",
    "        .to_excel(writer,sheet_name = sheet_name)"
   ]
  }
 ],
 "metadata": {
  "kernelspec": {
   "display_name": "Python 3",
   "language": "python",
   "name": "python3"
  },
  "language_info": {
   "codemirror_mode": {
    "name": "ipython",
    "version": 3
   },
   "file_extension": ".py",
   "mimetype": "text/x-python",
   "name": "python",
   "nbconvert_exporter": "python",
   "pygments_lexer": "ipython3",
   "version": "3.8.5"
  }
 },
 "nbformat": 4,
 "nbformat_minor": 2
}
